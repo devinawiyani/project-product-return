{
 "cells": [
  {
   "cell_type": "code",
   "execution_count": 1,
   "metadata": {},
   "outputs": [],
   "source": [
    "# Libraries\n",
    "\n",
    "from selenium import webdriver\n",
    "from selenium.webdriver import Chrome\n",
    "from selenium.webdriver.chrome.options import Options\n",
    "from selenium.webdriver.common.by import By\n",
    "from selenium.webdriver.common.by import By\n",
    "from selenium.webdriver.support.ui import WebDriverWait\n",
    "from selenium.webdriver.support import expected_conditions as EC\n",
    "from bs4 import BeautifulSoup\n",
    "import pandas as pd\n",
    "import time\n",
    "import uuid"
   ]
  },
  {
   "cell_type": "code",
   "execution_count": 2,
   "metadata": {},
   "outputs": [],
   "source": [
    "# define class\n",
    "\n",
    "class Reviews:\n",
    "    def __init__(self, review_id, item_id, review_time, variant, star_rating, content):\n",
    "        self.review_id = review_id\n",
    "        self.item_id=item_id\n",
    "        self.review_time = review_time\n",
    "        self.variant = variant\n",
    "        self.star_rating  = star_rating\n",
    "        self.content = content\n",
    "\n",
    "class Items:\n",
    "    def __init__(self, id, name, ratings, ratings_num, sold, shop_name, url):\n",
    "        self.id=id\n",
    "        self.name=name\n",
    "        self.ratings=ratings\n",
    "        self.ratings_num=ratings_num\n",
    "        self.sold=sold\n",
    "        self.shop_name=shop_name\n",
    "        self.url=url\n"
   ]
  },
  {
   "cell_type": "code",
   "execution_count": null,
   "metadata": {},
   "outputs": [],
   "source": []
  }
 ],
 "metadata": {
  "kernelspec": {
   "display_name": "Python 3",
   "language": "python",
   "name": "python3"
  },
  "language_info": {
   "codemirror_mode": {
    "name": "ipython",
    "version": 3
   },
   "file_extension": ".py",
   "mimetype": "text/x-python",
   "name": "python",
   "nbconvert_exporter": "python",
   "pygments_lexer": "ipython3",
   "version": "3.9.0"
  }
 },
 "nbformat": 4,
 "nbformat_minor": 2
}
