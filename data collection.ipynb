{
 "cells": [
  {
   "cell_type": "code",
   "execution_count": 36,
   "metadata": {},
   "outputs": [],
   "source": [
    "# Libraries\n",
    "\n",
    "from selenium import webdriver\n",
    "from selenium.webdriver import Chrome\n",
    "from selenium.webdriver.chrome.options import Options\n",
    "from selenium.webdriver.common.by import By\n",
    "from selenium.webdriver.common.by import By\n",
    "from selenium.webdriver.support.ui import WebDriverWait\n",
    "from selenium.webdriver.support import expected_conditions as EC\n",
    "from bs4 import BeautifulSoup\n",
    "import pandas as pd\n",
    "import time\n",
    "import uuid\n",
    "import re"
   ]
  },
  {
   "cell_type": "code",
   "execution_count": 15,
   "metadata": {},
   "outputs": [],
   "source": [
    "# define classes of information to be collected\n",
    "\n",
    "class Reviews:\n",
    "    def __init__(self, review_id, item_id, review_time, review_variant, star_rating, review_content):\n",
    "        self.review_id = review_id\n",
    "        self.item_id=item_id\n",
    "        self.review_time = review_time\n",
    "        self.review_variant = review_variant\n",
    "        self.star_rating  = star_rating\n",
    "        self.review_content = review_content\n",
    "\n",
    "class Items:\n",
    "    def __init__(self, item_id, item_name, item_ratings, ratings_num, item_sold, shop_name, item_price, item_url, item_desc, image_url):\n",
    "        self.item_id=item_id\n",
    "        self.item_name=item_name\n",
    "        self.item_ratings=item_ratings\n",
    "        self.ratings_num=ratings_num\n",
    "        self.item_sold=item_sold\n",
    "        self.shop_name=shop_name\n",
    "        self.item_price=item_price\n",
    "        self.item_url=item_url\n",
    "        self.item_desc=item_desc\n",
    "        self.image_url=image_url\n"
   ]
  },
  {
   "cell_type": "code",
   "execution_count": 16,
   "metadata": {},
   "outputs": [
    {
     "name": "stderr",
     "output_type": "stream",
     "text": [
      "C:\\Users\\Asus\\AppData\\Local\\Temp\\ipykernel_9128\\1499064468.py:11: DeprecationWarning: executable_path has been deprecated, please pass in a Service object\n",
      "  browser = webdriver.Chrome(executable_path=chrome_driver_path, options=chrome_options)\n"
     ]
    }
   ],
   "source": [
    "#Create Chrome options\n",
    "chrome_options= Options()\n",
    "chrome_options.add_argument('--no sandbox')\n",
    "chrome_options.add_argument('disable-notifications')\n",
    "chrome_options.add_argument('disable-inforbars')\n",
    "\n",
    "# Set the path to the Chrome driver executable\n",
    "chrome_driver_path = 'D:\\Chrome web driver\\chromedriver-win64\\chromedriver.exe'\n",
    "\n",
    "# Create an instance of the Chrome browser\n",
    "browser = webdriver.Chrome(executable_path=chrome_driver_path, options=chrome_options)\n",
    "\n",
    "# Navigate to a URL \n",
    "browser.get(\"https://shopee.com.my/\")"
   ]
  },
  {
   "cell_type": "code",
   "execution_count": 12,
   "metadata": {},
   "outputs": [
    {
     "name": "stdout",
     "output_type": "stream",
     "text": [
      "/Smart-Watch-7-Full-Screen-Wireless-Call-Waterproof-Sports-Watch-Men-Women-Portable-Charging-Smartwatch-i.282542196.18930016664?sp_atk=01f759c7-89b9-47a9-a64c-cdcfb142e3d1&xptdk=01f759c7-89b9-47a9-a64c-cdcfb142e3d1\n",
      "/One-Piece-Men's-Sports-Watch-Waterproof-Top-Luxury-Wristwatches-Gifts-Style-Digital-Clocks-Shock-Gentleman-Fashion-i.452489351.21002363650?sp_atk=2bcc880e-08fe-4e82-ae8d-63ac8445651e&xptdk=2bcc880e-08fe-4e82-ae8d-63ac8445651e\n",
      "/Small-Black-Watch-Men-and-Women-Student-Classic-Quartz-MQ24-Couple-Watch-i.163421877.18130228064?sp_atk=daf58b17-f040-47d0-bf33-b3198fc0a0df&xptdk=daf58b17-f040-47d0-bf33-b3198fc0a0df\n",
      "/Slim-Silicone-Strap-For-Apple-Watch-Band-44mm-40mm-45mm-41mm-Ultra-49mm-42mm-38-44-45-mm-bracelet-For-iWatch-series-7-8-se-3-4-5-6-i.488786191.18190296638?sp_atk=0f00bbe4-10fb-443c-97c0-4055a0b936ce&xptdk=0f00bbe4-10fb-443c-97c0-4055a0b936ce\n",
      "/Fashion-Unisex-Silicone-Sport-Watch-LED-Digital-Electronic-Watch-Jam-Tangan-Perempuan-Lelaki-Wanita-Bracelet-Black-Wrist-Watch-Man-Women-Ladies-Couple-Watch-i.14642731.121101723?sp_atk=f1290d13-a050-4127-ae37-088a471eae4b&xptdk=f1290d13-a050-4127-ae37-088a471eae4b\n",
      "/-🐼PANDA-PROMO🐼-2-YEARS-WARRANTY-Original-HONHX-BABY-AOSUN-Digital-Sports-Men-Ladies-Watch-Jam-Tangan-Lelaki-Wanita-i.300594525.6949633932?sp_atk=b6b8ed1c-1e6d-4778-a3df-bccf2ccd09eb&xptdk=b6b8ed1c-1e6d-4778-a3df-bccf2ccd09eb\n",
      "/【READY-STOCK-AT-MALAYSIA】Electronic-watch-Korean-version-of-waterproof-block-digital-touch-screen-watch-Couples-students-and-children's-fashion-bracelets-i.961289906.21876642877?sp_atk=71dd04ee-f09a-4447-8a79-fed9ecf001d0&xptdk=71dd04ee-f09a-4447-8a79-fed9ecf001d0\n",
      "/Watch-Box-Wrist-Watches-Storage-Box-Display-Storage-Organizer-Leather-Watch-Case-Kotak-Jam-Tangan-i.649940299.22966963538?sp_atk=a5eadc11-5d86-4ac2-ae87-dca4ff6b49a3&xptdk=a5eadc11-5d86-4ac2-ae87-dca4ff6b49a3\n",
      "/Men's-Watches-Fashion-Business-Quartz-Large-Dial-Watches-For-Matte-Belt-Wrist-Watches-i.73473342.19341017031?sp_atk=8d27a4b3-1ad0-4cc0-91cb-555729d9564a&xptdk=8d27a4b3-1ad0-4cc0-91cb-555729d9564a\n",
      "/Geneva-Brand-Silicone-Women-Watch-Ladies-Dress-Quartz-Wristwatch-Female-Watches-jam-tangan-perempuan-i.60277422.15608801528?sp_atk=4ed41a51-a436-4cdf-af73-714524c9f9fb&xptdk=4ed41a51-a436-4cdf-af73-714524c9f9fb\n",
      "/【Free-Watch-Box】OLEVS-Luxury-Jam-Tangan-Perempuan-Lelaki-Couple-Watch-Women-Original-Casual-Waterproof-Quartz-Luminous-Leather-Watch-Men-Watches-i.56027601.983457963?sp_atk=30cb2ce9-9cf8-4152-a3be-e47a9fdfe443&xptdk=30cb2ce9-9cf8-4152-a3be-e47a9fdfe443\n",
      "/22mm-original-Huawei-strap-GT-GT1-GT2e-2pro-GT2-GT3-46mm-fluoro-rubber-strap-suitable-for-Huawei-watch-3-3Pro-GT-Runner-fashion-sports-strap-i.564392067.12855228177?sp_atk=9710080b-0074-4803-b70c-05d48656de96&xptdk=9710080b-0074-4803-b70c-05d48656de96\n",
      "/190-B-Smart-Watch-Men-New-Style-Digital-Waterproof-Sports-Military-(DIGITAL-DESERT-CAMOUFLAGE)-i.293730608.9102637577?sp_atk=2705bf8a-5c13-4a93-833e-a88c43daa3af&xptdk=2705bf8a-5c13-4a93-833e-a88c43daa3af\n",
      "/-🐼PANDA-PROMO🐼-Hush-Puppies-TOUCH-Screen-Digital-LED-Sport-Rubber-Women-Ladies-Watch-Jam-Tangan-Wanita-Perempuan-i.300594525.3091828268?sp_atk=9884e42a-24ff-477b-b5a7-1d6c8d5c40c8&xptdk=9884e42a-24ff-477b-b5a7-1d6c8d5c40c8\n",
      "/Olevs-Jam-Tangan-Couple-Set-Pasangan-Murah-Original-Jam-Tangan-Lelaki-Perempuan-Brown-Leather-Couple-Quartz-Analog-Watch-Casual-Luxury-Watches-Date-Waterproof-Luminous-Watches-i.64222426.2318056101?sp_atk=09a7b05a-6f78-4d69-8b7f-208a9c09e264&xptdk=09a7b05a-6f78-4d69-8b7f-208a9c09e264\n",
      "/T800-Ultra-Smartwatch-Strap-For-X8-XMAX-T500-I7-PRO-MAX-Apple-watch-Ultra-8-Smartwatch-45mm-44mm-42mm-i.75354798.18062601603?sp_atk=4eb9e701-c79a-4585-bb2b-0492bb7c799c&xptdk=4eb9e701-c79a-4585-bb2b-0492bb7c799c\n",
      "/Cigarette-Lighter-Watch-Steel-Creative-Flameless-USB-Lighter-Watches-Men-Quartz-Wristwatches-Windproof-Men-Gift-Clock-i.407333344.19045314470?sp_atk=5a009d93-2a22-4d89-b521-4f71d1fd6d36&xptdk=5a009d93-2a22-4d89-b521-4f71d1fd6d36\n",
      "/POSHI-jam-tangan-wanita-original-Waterproof-Ladies-Quartz-Watch-fashion-Korean-elegant-stainless-steel-Bracelet-watches-for-women-girls-i.186624989.20301085552?sp_atk=d70653f9-b89b-4b32-97e9-80ac10df0c3a&xptdk=d70653f9-b89b-4b32-97e9-80ac10df0c3a\n",
      "/【Ready-Stock】-Jam-tangan-Wanita-Retro-women-watch-fashion-simple-ladies-watch-couple-watch-woman-watch-i.169836957.4771338676?sp_atk=9e45926e-8f3f-44b3-acdd-a9c69b5b165f&xptdk=9e45926e-8f3f-44b3-acdd-a9c69b5b165f\n",
      "/【Malaysia-Ready-Stock】-G-SHOCK-56BB-DW6900-MUDMASTER-ga110-Mens-Watch-Men-Sport-Watches-Jam-tangan-lelaki-i.149821222.16892038570?sp_atk=cf4d1da3-a231-4465-848f-3c6f938c1e5a&xptdk=cf4d1da3-a231-4465-848f-3c6f938c1e5a\n",
      "/Top-Brand-Luxury-Fashion-Women-Watch-Waterproof-Silicone-Band-Casual-Sport-Ladies-Quartz-Wristwatch-Simple-Casual-Girls-Student-Gift-Watches-i.593665033.23725273536?sp_atk=ef49ccf8-1d4e-4509-b1a9-288704b70f40&xptdk=ef49ccf8-1d4e-4509-b1a9-288704b70f40\n",
      "/SKMEI-New-Fashion-Sports-Watch-50-Meters-Waterproof-LED-Multi-function-jam-tangan-perempuan-lelaki-i.83591286.13957803749?sp_atk=bdc68c68-c480-4520-9c64-36cc45d1f6fb&xptdk=bdc68c68-c480-4520-9c64-36cc45d1f6fb\n",
      "/LOCK-LIVE-SALE-MURAH-i.86907930.18092508851?sp_atk=86a07d7e-4a71-494b-a06b-1df5e94bdfa5&xptdk=86a07d7e-4a71-494b-a06b-1df5e94bdfa5\n",
      "/【Malaysia-3-Year-Warranty】-G-Sport-Sports-Waterproof-Watch-Ladies-watch-Digital-watch-pink-automatic-Baby-A-BA110-i.313032965.6983969451?sp_atk=f7a32332-46ca-49a2-8035-2e03db852805&xptdk=f7a32332-46ca-49a2-8035-2e03db852805\n",
      "/【Free-Box】Olevs-Jam-Tangan-Couple-Set-Original-Waterproof-Fashion-Prismatic-Dial-Stainless-Steel-Strap-Watch-Luxury-Calendar-Luminous-Quartz-Analog-Wrist-Watch-i.64222426.23330297342?sp_atk=6ce35d5f-725e-407a-bc3b-5803f7de9a9c&xptdk=6ce35d5f-725e-407a-bc3b-5803f7de9a9c\n",
      "/-MY-Seller-New-Colour-Magnet-Strap-Stainless-Steel-Loop-Mesh-Band-for-iWatch-Series-1-2-3-4-5-6-SE-7-8-go-i.778662549.17576804367?sp_atk=8c915753-3766-4bdd-940f-57362cb660d7&xptdk=8c915753-3766-4bdd-940f-57362cb660d7\n",
      "/-WATCHGOD-PROMO-King-of-Dark-Knight-DW5600-Petak-Shock-Men-Women-Unisex-Kid-Watch-Watches-Jam-Tangan-Lelaki-Perempuan-i.163421877.22572717624?sp_atk=95917ff5-c4f7-4b69-883c-573e16b2da75&xptdk=95917ff5-c4f7-4b69-883c-573e16b2da75\n",
      "/-Malaysia-Stock-（Gift-Set）WISHDOIT-Couple-Watch-Set-Original-Jam-Tangan-Pasangan-Lelaki-Wanita-Perempuan-Men-Women-Waterproof-Stainless-Steel-Quartz-Ladies-Watches-Business-Casual-Free-Box-Leather-Strap-Luxury-Brand-i.392351144.12803483343?sp_atk=299d2539-da51-4836-811f-1ad18dfd2e73&xptdk=299d2539-da51-4836-811f-1ad18dfd2e73\n",
      "/Factory-Direct-Sale-Leather-Watch-Band-Bamboo-Pattern-Watchband-Unisex-Universal-Watch-Strap-14mm-16mm-18mm-20mm-22mm-24mm-i.344163299.5165646468?sp_atk=80ea8c3e-7e0b-43c9-95b8-f789c8b10ef0&xptdk=80ea8c3e-7e0b-43c9-95b8-f789c8b10ef0\n",
      "/Fashion-Men's-Watch-Ultra-thin-Stainless-Steel-Nylon-Leather-Band-Quartz-Watches-i.22590214.21453683240?sp_atk=66e90724-4727-4060-9666-bc0396b348e1&xptdk=66e90724-4727-4060-9666-bc0396b348e1\n",
      "/Retro-Women-Watch-Casual-Ladies-Girl-Student-Watch-for-Girlfriend-Gifts-Jam-Tangan-Wanita-Perempuan-i.73473342.20328259317?sp_atk=b56b08dc-5a1f-451b-9901-34d5c77458de&xptdk=b56b08dc-5a1f-451b-9901-34d5c77458de\n",
      "/-COD-Paper-Box-for-Watch-or-Watches-Storage-Box-i.561958135.20379602334?sp_atk=af2e6045-4362-4221-8d6b-5840bf83c241&xptdk=af2e6045-4362-4221-8d6b-5840bf83c241\n",
      "/-Malaysia-3-Year-Warranty-CASIO-GSHOCK-BATTLE-KING-GST8600-GST-8600-Sport-Digital-Men-Watch-Watches-Jam-Tangan-Lelaki-i.126420094.19171471630?sp_atk=81458aff-d4cb-4e5a-8d1a-7e2aeeb50228&xptdk=81458aff-d4cb-4e5a-8d1a-7e2aeeb50228\n",
      "/-Malaysia-Original-2022-Korean-Fashion-Leather-Belt-Sky-Watch-Watch-Jam-Tangan-Wanita-W026-i.24228763.5748154757?sp_atk=fd502bf6-4125-42a8-9f5b-fc421c63b427&xptdk=fd502bf6-4125-42a8-9f5b-fc421c63b427\n",
      "/NEW-🟢BUY-1-DAPAT-1-🟢OCEAN_13000BAR-HARGA-MURAH-SAHAJA-i.142906486.22254685068?sp_atk=821b031d-b60c-471e-9534-3984ad3bf388&xptdk=821b031d-b60c-471e-9534-3984ad3bf388\n",
      "/🔥Malaysia-24h-Delivery-🔥Multi-function-Digital-Sports-Sanda-Waterproof-LED-Men-Women-Watch-Jam-Tangan-Lelaki-i.623656443.15447027614?sp_atk=964edbfd-4b2f-47bb-b92f-cca69f770cb7&xptdk=964edbfd-4b2f-47bb-b92f-cca69f770cb7\n",
      "/-🔥WATCHGOD-PROMO🔥-2-Years-Warranty-Original-LED-Digital-Sports-Unisex-Men-Women-Ladies-Watch-Jam-Tangan-Lelaki-Wanita-i.88257056.3334907766?sp_atk=86b97c20-4bd9-475a-a417-de6ab348dcb9&xptdk=86b97c20-4bd9-475a-a417-de6ab348dcb9\n",
      "/Silicone-Watch-✅With-Battery-Nurse-Doctor-Paramedic-Tunic-Brooch-Fob-Watch-Medical-i.419940328.16004249886?sp_atk=d21305e5-2b45-48cc-a144-656e812e41b9&xptdk=d21305e5-2b45-48cc-a144-656e812e41b9\n",
      "/Garmin-Forerunner-965-265-265S-Case-Cover-Bumper-Protector-Bezel-Protector-i.129658479.20188370596?sp_atk=a48e2277-e944-44a2-b8dc-7f2d9b7020e0&xptdk=a48e2277-e944-44a2-b8dc-7f2d9b7020e0\n",
      "/Fashion-Women-Sports-Waterproof-Watch-Silicone-Watches-LED-Night-Light-Jam-Tangan-Perempuan-i.60277422.3937840166?sp_atk=a225e100-f4b7-4e20-8297-58131e5af6ce&xptdk=a225e100-f4b7-4e20-8297-58131e5af6ce\n",
      "/SANDA-Solid-Color-Romantic-Couple-Style-LED-Digital-Display-Watch-Luminous-Cool-Personality-Quartz-Watch-6088-89-5-i.173426679.21303821639?sp_atk=1e644980-1c6b-4a8d-8947-00254bb602c5&xptdk=1e644980-1c6b-4a8d-8947-00254bb602c5\n",
      "/Metal-Band-For-Smart-Watches-Series-8-Ultra-7-6-SE-5-4-3-2-1-Size-49mm-41mm-45mm-44mm-42mm-40mm-38mm-Watch-Strap-i.213237214.17940749477?sp_atk=43fc635b-514b-4c52-a1af-608cd0ca9a2b&xptdk=43fc635b-514b-4c52-a1af-608cd0ca9a2b\n",
      "/-Malaysia-3-Year-Warranty-Dark-Knight-DW5600-Petak-G-Sports-Men-Women-Unisex-Kid-Watch-Jam-Tangan-Lelaki-Perempuan-i.88257056.5972469036?sp_atk=86cb77ae-9291-4b3b-ba62-1351089267d9&xptdk=86cb77ae-9291-4b3b-ba62-1351089267d9\n",
      "/-🔥Malaysia-6Months-Warranty🔥-HONHX-Sports-Watch-Digital-LED-Men-Women-Kids-Watch-Jam-Tangan-Lelaki-Kanak-i.290712200.9813542423?sp_atk=580db2b6-9f97-410d-a741-e1c74f781391&xptdk=580db2b6-9f97-410d-a741-e1c74f781391\n",
      "/TOP-SELLING-🔥🔥🔥-Stand-jam-watch-stand-G-SHOCK-stand-i.207275916.3828294073?sp_atk=4524b6db-fd42-496d-a85c-b9de11560a8e&xptdk=4524b6db-fd42-496d-a85c-b9de11560a8e\n",
      "/-Malaysia-3-Year-Warranty-CASIO-GSHOCK-BATTLE-KING-GST8600-GST-8600-Sport-Digital-Men-Watch-Watches-Jam-Tangan-Lelaki-i.88257056.19139869093?sp_atk=9905f5be-8014-4762-af06-f702740444d0&xptdk=9905f5be-8014-4762-af06-f702740444d0\n",
      "/Smart-Watch-IOS-Android-Bluetooth-Fitness-Watch-with-Pedometer-Fashion-Watch-i.173426679.6723285169?sp_atk=358ef7c0-6816-4fd6-8917-2d4d7df24895&xptdk=358ef7c0-6816-4fd6-8917-2d4d7df24895\n",
      "/Ocean-Silicone-Strap-For-Apple-Watch-Ultra-49mm-series-8-7-6-5-4-3-SE-2-1-for-iWatch-45mm-41mm-44mm-40mm-42mm-38mm-Bracelet-Sport-Band-Wristband-i.65503438.20752666148?sp_atk=8a202fa7-61a4-4df5-9f3f-79c8b7f422fd&xptdk=8a202fa7-61a4-4df5-9f3f-79c8b7f422fd\n",
      "/-Malaysia-6Months-Warranty-Dark-Knight-Petak-Hitam-Jam-Tangan-Lelaki-Perempuan-Watch-Unisex-Sport-Black-Watch-i.290712200.7795197426?sp_atk=86db5bc8-d773-4cf7-ae48-bd3bce15b8e1&xptdk=86db5bc8-d773-4cf7-ae48-bd3bce15b8e1\n",
      "/-🔥WATCHGOD-PROMO🔥-Korean-Starry-Sky-Fashion-Stylish-Luxury-Leather-Women-Ladies-Watch-Jam-Tangan-Wanita-Perempuan-i.88257056.1599225765?sp_atk=96986592-890d-414f-8657-f3d63107641a&xptdk=96986592-890d-414f-8657-f3d63107641a\n",
      "/SANDA-Solid-Color-Romantic-Couple-Style-LED-Digital-Display-Watch-Luminous-Cool-Personality-Quartz-Watch-6088-89-12-i.173426679.20103819311?sp_atk=c2c9dbc6-4705-47be-afef-221f1c2ccf02&xptdk=c2c9dbc6-4705-47be-afef-221f1c2ccf02\n"
     ]
    }
   ],
   "source": [
    "soup=BeautifulSoup(browser.page_source, \"html.parser\")\n",
    "\n",
    "the_links=[]\n",
    "\n",
    "parent_div = soup.findAll('div', class_=\"col-xs-2-4 shopee-search-item-result__item\")\n",
    "\n",
    "for parent_div in parent_div:\n",
    "    a=parent_div.find('a')\n",
    "    if (a!=None):\n",
    "        href=a.get('href')\n",
    "        the_links.append(href)\n",
    "\n",
    "        # print the links\n",
    "        print(href)\n",
    "        "
   ]
  },
  {
   "cell_type": "code",
   "execution_count": 31,
   "metadata": {},
   "outputs": [],
   "source": []
  },
  {
   "cell_type": "code",
   "execution_count": null,
   "metadata": {},
   "outputs": [],
   "source": [
    "item_list=[]\n",
    "review_list=[]"
   ]
  },
  {
   "cell_type": "code",
   "execution_count": 53,
   "metadata": {},
   "outputs": [
    {
     "name": "stdout",
     "output_type": "stream",
     "text": [
      "10\n"
     ]
    }
   ],
   "source": [
    "for i in range (0,1):\n",
    "    # open link\n",
    "    links='https://shopee.com.my'+ the_links[i]\n",
    "    browser.get(links)\n",
    "    time.sleep(5)\n",
    "\n",
    "    # parse html using beautifulsoup\n",
    "    soup=BeautifulSoup(browser.page_source, \"html.parser\")\n",
    "\n",
    "    # extract product information\n",
    "    id=uuid.uuid4()\n",
    "    title = soup.find('div', attrs={'class':'_44qnta'}).find('span').get_text(strip=True)\n",
    "    ratings=soup.find('div', class_=\"_1k47d8 _046PXf\").get_text(strip=True)\n",
    "    ratings_num=soup.select('div._1k47d8:not(div._1k47d8._046PXf)')[0].get_text(strip=True)\n",
    "    sold=soup.find('div', class_=\"e9sAa2\").get_text(strip=True)\n",
    "    shop_name=soup.find('div',class_=\"VlDReK\").get_text(strip=True)\n",
    "    price = soup.find('div', class_='pqTWkA').get_text(strip=True)\n",
    "\n",
    "    # extract description\n",
    "    descriptions = soup.find_all('p', class_='irIKAp')\n",
    "    \n",
    "\n",
    "    desc_array=[]\n",
    "    for description in descriptions:\n",
    "        desc = re.sub(r'<[^>]+>', '', str(description))  # Remove HTML tags\n",
    "        desc = desc.strip()  # Remove leading/trailing whitespaces\n",
    "        desc_array.append(desc)\n",
    "\n",
    "    text = \"\\n\".join(desc_array)\n",
    "\n",
    "    # extract picture url\n",
    "    img_tag= soup.find('img', class_='_7D4JtJ')\n",
    "\n",
    "    if img_tag:\n",
    "        image = img_tag['src']\n",
    "    else:\n",
    "        image=None\n",
    "\n",
    "    # append item to a list\n",
    "    # print(id,title,ratings,ratings_num,sold,shop_name, price, links, text, image)\n",
    "    list=[id,title,ratings,ratings_num,sold,shop_name, price, links, text, image]\n",
    "    print(len(list))\n",
    "    # print(Items(id,title,ratings,ratings_num,sold,shop_name,price,links,description,image))\n",
    "    #item_list.append(Items(id,title,ratings,ratings_num,sold,shop_name, price, links, description, image))\n",
    "    '''\n",
    "    elements = browser.find_elements(By.CLASS_NAME,\"product-rating-overview__filter\")\n",
    "\n",
    "    for j in range(1,6):\n",
    "        elements[j].click()\n",
    "        time.sleep(2)\n",
    "    '''"
   ]
  },
  {
   "cell_type": "code",
   "execution_count": null,
   "metadata": {},
   "outputs": [],
   "source": []
  }
 ],
 "metadata": {
  "kernelspec": {
   "display_name": "Python 3",
   "language": "python",
   "name": "python3"
  },
  "language_info": {
   "codemirror_mode": {
    "name": "ipython",
    "version": 3
   },
   "file_extension": ".py",
   "mimetype": "text/x-python",
   "name": "python",
   "nbconvert_exporter": "python",
   "pygments_lexer": "ipython3",
   "version": "3.9.0"
  }
 },
 "nbformat": 4,
 "nbformat_minor": 2
}
